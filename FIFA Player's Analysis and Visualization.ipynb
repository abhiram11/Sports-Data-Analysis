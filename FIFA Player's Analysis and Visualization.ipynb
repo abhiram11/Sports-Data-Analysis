{
 "cells": [
  {
   "cell_type": "code",
   "execution_count": 8,
   "metadata": {},
   "outputs": [],
   "source": [
    "import numpy as np\n",
    "import pandas as pd\n",
    "import seaborn as sns\n",
    "import matplotlib.pyplot as plt\n",
    "%matplotlib inline\n",
    "#try %matplotlib notebook as well and see the diff"
   ]
  },
  {
   "cell_type": "code",
   "execution_count": 9,
   "metadata": {},
   "outputs": [
    {
     "name": "stdout",
     "output_type": "stream",
     "text": [
      "File loaded!\n"
     ]
    }
   ],
   "source": [
    "sns.set(style='ticks') # to remove gridlines\n",
    "players_df = pd.read_csv('fifa19_data.csv')\n",
    "print('File loaded!')"
   ]
  },
  {
   "cell_type": "code",
   "execution_count": 10,
   "metadata": {},
   "outputs": [
    {
     "data": {
      "text/html": [
       "<div>\n",
       "<style scoped>\n",
       "    .dataframe tbody tr th:only-of-type {\n",
       "        vertical-align: middle;\n",
       "    }\n",
       "\n",
       "    .dataframe tbody tr th {\n",
       "        vertical-align: top;\n",
       "    }\n",
       "\n",
       "    .dataframe thead th {\n",
       "        text-align: right;\n",
       "    }\n",
       "</style>\n",
       "<table border=\"1\" class=\"dataframe\">\n",
       "  <thead>\n",
       "    <tr style=\"text-align: right;\">\n",
       "      <th></th>\n",
       "      <th>Name</th>\n",
       "      <th>Club</th>\n",
       "      <th>Nationality</th>\n",
       "      <th>Preferred Foot</th>\n",
       "      <th>Position</th>\n",
       "      <th>Body Type</th>\n",
       "      <th>Overall</th>\n",
       "      <th>Potential</th>\n",
       "      <th>Crossing</th>\n",
       "      <th>Finishing</th>\n",
       "      <th>ShortPassing</th>\n",
       "      <th>Dribbling</th>\n",
       "      <th>LongPassing</th>\n",
       "      <th>BallControl</th>\n",
       "      <th>Acceleration</th>\n",
       "      <th>SprintSpeed</th>\n",
       "      <th>Agility</th>\n",
       "      <th>Stamina</th>\n",
       "      <th>Value</th>\n",
       "      <th>Wage</th>\n",
       "    </tr>\n",
       "  </thead>\n",
       "  <tbody>\n",
       "    <tr>\n",
       "      <th>0</th>\n",
       "      <td>L. Messi</td>\n",
       "      <td>FC Barcelona</td>\n",
       "      <td>Argentina</td>\n",
       "      <td>Left</td>\n",
       "      <td>RF</td>\n",
       "      <td>Messi</td>\n",
       "      <td>94</td>\n",
       "      <td>94</td>\n",
       "      <td>84.0</td>\n",
       "      <td>95.0</td>\n",
       "      <td>90.0</td>\n",
       "      <td>97.0</td>\n",
       "      <td>87.0</td>\n",
       "      <td>96.0</td>\n",
       "      <td>91.0</td>\n",
       "      <td>86.0</td>\n",
       "      <td>91.0</td>\n",
       "      <td>72.0</td>\n",
       "      <td>€110.5M</td>\n",
       "      <td>€565K</td>\n",
       "    </tr>\n",
       "    <tr>\n",
       "      <th>1</th>\n",
       "      <td>Cristiano Ronaldo</td>\n",
       "      <td>Juventus</td>\n",
       "      <td>Portugal</td>\n",
       "      <td>Right</td>\n",
       "      <td>ST</td>\n",
       "      <td>C. Ronaldo</td>\n",
       "      <td>94</td>\n",
       "      <td>94</td>\n",
       "      <td>84.0</td>\n",
       "      <td>94.0</td>\n",
       "      <td>81.0</td>\n",
       "      <td>88.0</td>\n",
       "      <td>77.0</td>\n",
       "      <td>94.0</td>\n",
       "      <td>89.0</td>\n",
       "      <td>91.0</td>\n",
       "      <td>87.0</td>\n",
       "      <td>88.0</td>\n",
       "      <td>€77M</td>\n",
       "      <td>€405K</td>\n",
       "    </tr>\n",
       "    <tr>\n",
       "      <th>2</th>\n",
       "      <td>Neymar Jr</td>\n",
       "      <td>Paris Saint-Germain</td>\n",
       "      <td>Brazil</td>\n",
       "      <td>Right</td>\n",
       "      <td>LW</td>\n",
       "      <td>Neymar</td>\n",
       "      <td>92</td>\n",
       "      <td>93</td>\n",
       "      <td>79.0</td>\n",
       "      <td>87.0</td>\n",
       "      <td>84.0</td>\n",
       "      <td>96.0</td>\n",
       "      <td>78.0</td>\n",
       "      <td>95.0</td>\n",
       "      <td>94.0</td>\n",
       "      <td>90.0</td>\n",
       "      <td>96.0</td>\n",
       "      <td>81.0</td>\n",
       "      <td>€118.5M</td>\n",
       "      <td>€290K</td>\n",
       "    </tr>\n",
       "    <tr>\n",
       "      <th>3</th>\n",
       "      <td>De Gea</td>\n",
       "      <td>Manchester United</td>\n",
       "      <td>Spain</td>\n",
       "      <td>Right</td>\n",
       "      <td>GK</td>\n",
       "      <td>Lean</td>\n",
       "      <td>91</td>\n",
       "      <td>93</td>\n",
       "      <td>17.0</td>\n",
       "      <td>13.0</td>\n",
       "      <td>50.0</td>\n",
       "      <td>18.0</td>\n",
       "      <td>51.0</td>\n",
       "      <td>42.0</td>\n",
       "      <td>57.0</td>\n",
       "      <td>58.0</td>\n",
       "      <td>60.0</td>\n",
       "      <td>43.0</td>\n",
       "      <td>€72M</td>\n",
       "      <td>€260K</td>\n",
       "    </tr>\n",
       "    <tr>\n",
       "      <th>4</th>\n",
       "      <td>K. De Bruyne</td>\n",
       "      <td>Manchester City</td>\n",
       "      <td>Belgium</td>\n",
       "      <td>Right</td>\n",
       "      <td>RCM</td>\n",
       "      <td>Normal</td>\n",
       "      <td>91</td>\n",
       "      <td>92</td>\n",
       "      <td>93.0</td>\n",
       "      <td>82.0</td>\n",
       "      <td>92.0</td>\n",
       "      <td>86.0</td>\n",
       "      <td>91.0</td>\n",
       "      <td>91.0</td>\n",
       "      <td>78.0</td>\n",
       "      <td>76.0</td>\n",
       "      <td>79.0</td>\n",
       "      <td>90.0</td>\n",
       "      <td>€102M</td>\n",
       "      <td>€355K</td>\n",
       "    </tr>\n",
       "  </tbody>\n",
       "</table>\n",
       "</div>"
      ],
      "text/plain": [
       "                Name                 Club Nationality Preferred Foot Position  \\\n",
       "0           L. Messi         FC Barcelona   Argentina           Left       RF   \n",
       "1  Cristiano Ronaldo             Juventus    Portugal          Right       ST   \n",
       "2          Neymar Jr  Paris Saint-Germain      Brazil          Right       LW   \n",
       "3             De Gea    Manchester United       Spain          Right       GK   \n",
       "4       K. De Bruyne      Manchester City     Belgium          Right      RCM   \n",
       "\n",
       "    Body Type  Overall  Potential  Crossing  Finishing  ShortPassing  \\\n",
       "0       Messi       94         94      84.0       95.0          90.0   \n",
       "1  C. Ronaldo       94         94      84.0       94.0          81.0   \n",
       "2      Neymar       92         93      79.0       87.0          84.0   \n",
       "3        Lean       91         93      17.0       13.0          50.0   \n",
       "4      Normal       91         92      93.0       82.0          92.0   \n",
       "\n",
       "   Dribbling  LongPassing  BallControl  Acceleration  SprintSpeed  Agility  \\\n",
       "0       97.0         87.0         96.0          91.0         86.0     91.0   \n",
       "1       88.0         77.0         94.0          89.0         91.0     87.0   \n",
       "2       96.0         78.0         95.0          94.0         90.0     96.0   \n",
       "3       18.0         51.0         42.0          57.0         58.0     60.0   \n",
       "4       86.0         91.0         91.0          78.0         76.0     79.0   \n",
       "\n",
       "   Stamina    Value   Wage  \n",
       "0     72.0  €110.5M  €565K  \n",
       "1     88.0     €77M  €405K  \n",
       "2     81.0  €118.5M  €290K  \n",
       "3     43.0     €72M  €260K  \n",
       "4     90.0    €102M  €355K  "
      ]
     },
     "execution_count": 10,
     "metadata": {},
     "output_type": "execute_result"
    }
   ],
   "source": [
    "#no need to take all columns\n",
    "categoric_cols = ['Name', 'Club', 'Nationality',\n",
    "                  'Preferred Foot','Position', 'Body Type']\n",
    "\n",
    "numeric_cols = ['Overall', 'Potential', 'Crossing', 'Finishing', 'ShortPassing',\n",
    "               'Dribbling', 'LongPassing', 'BallControl', 'Acceleration',\n",
    "               'SprintSpeed', 'Agility', 'Stamina', 'Value', 'Wage']\n",
    "\n",
    "players_df = players_df[categoric_cols+numeric_cols]\n",
    "players_df.head()"
   ]
  },
  {
   "cell_type": "markdown",
   "metadata": {},
   "source": [
    "Alternative approach to select only the required columns while loading the original file itself:"
   ]
  },
  {
   "cell_type": "code",
   "execution_count": 11,
   "metadata": {},
   "outputs": [
    {
     "name": "stdout",
     "output_type": "stream",
     "text": [
      "File with specified columns loaded!\n"
     ]
    },
    {
     "data": {
      "text/html": [
       "<div>\n",
       "<style scoped>\n",
       "    .dataframe tbody tr th:only-of-type {\n",
       "        vertical-align: middle;\n",
       "    }\n",
       "\n",
       "    .dataframe tbody tr th {\n",
       "        vertical-align: top;\n",
       "    }\n",
       "\n",
       "    .dataframe thead th {\n",
       "        text-align: right;\n",
       "    }\n",
       "</style>\n",
       "<table border=\"1\" class=\"dataframe\">\n",
       "  <thead>\n",
       "    <tr style=\"text-align: right;\">\n",
       "      <th></th>\n",
       "      <th>Name</th>\n",
       "      <th>Nationality</th>\n",
       "      <th>Overall</th>\n",
       "      <th>Potential</th>\n",
       "      <th>Club</th>\n",
       "      <th>Value</th>\n",
       "      <th>Wage</th>\n",
       "      <th>Preferred Foot</th>\n",
       "      <th>Body Type</th>\n",
       "      <th>Position</th>\n",
       "      <th>Crossing</th>\n",
       "      <th>Finishing</th>\n",
       "      <th>ShortPassing</th>\n",
       "      <th>Dribbling</th>\n",
       "      <th>LongPassing</th>\n",
       "      <th>BallControl</th>\n",
       "      <th>Acceleration</th>\n",
       "      <th>SprintSpeed</th>\n",
       "      <th>Agility</th>\n",
       "      <th>Stamina</th>\n",
       "    </tr>\n",
       "  </thead>\n",
       "  <tbody>\n",
       "    <tr>\n",
       "      <th>0</th>\n",
       "      <td>L. Messi</td>\n",
       "      <td>Argentina</td>\n",
       "      <td>94</td>\n",
       "      <td>94</td>\n",
       "      <td>FC Barcelona</td>\n",
       "      <td>€110.5M</td>\n",
       "      <td>€565K</td>\n",
       "      <td>Left</td>\n",
       "      <td>Messi</td>\n",
       "      <td>RF</td>\n",
       "      <td>84.0</td>\n",
       "      <td>95.0</td>\n",
       "      <td>90.0</td>\n",
       "      <td>97.0</td>\n",
       "      <td>87.0</td>\n",
       "      <td>96.0</td>\n",
       "      <td>91.0</td>\n",
       "      <td>86.0</td>\n",
       "      <td>91.0</td>\n",
       "      <td>72.0</td>\n",
       "    </tr>\n",
       "    <tr>\n",
       "      <th>1</th>\n",
       "      <td>Cristiano Ronaldo</td>\n",
       "      <td>Portugal</td>\n",
       "      <td>94</td>\n",
       "      <td>94</td>\n",
       "      <td>Juventus</td>\n",
       "      <td>€77M</td>\n",
       "      <td>€405K</td>\n",
       "      <td>Right</td>\n",
       "      <td>C. Ronaldo</td>\n",
       "      <td>ST</td>\n",
       "      <td>84.0</td>\n",
       "      <td>94.0</td>\n",
       "      <td>81.0</td>\n",
       "      <td>88.0</td>\n",
       "      <td>77.0</td>\n",
       "      <td>94.0</td>\n",
       "      <td>89.0</td>\n",
       "      <td>91.0</td>\n",
       "      <td>87.0</td>\n",
       "      <td>88.0</td>\n",
       "    </tr>\n",
       "    <tr>\n",
       "      <th>2</th>\n",
       "      <td>Neymar Jr</td>\n",
       "      <td>Brazil</td>\n",
       "      <td>92</td>\n",
       "      <td>93</td>\n",
       "      <td>Paris Saint-Germain</td>\n",
       "      <td>€118.5M</td>\n",
       "      <td>€290K</td>\n",
       "      <td>Right</td>\n",
       "      <td>Neymar</td>\n",
       "      <td>LW</td>\n",
       "      <td>79.0</td>\n",
       "      <td>87.0</td>\n",
       "      <td>84.0</td>\n",
       "      <td>96.0</td>\n",
       "      <td>78.0</td>\n",
       "      <td>95.0</td>\n",
       "      <td>94.0</td>\n",
       "      <td>90.0</td>\n",
       "      <td>96.0</td>\n",
       "      <td>81.0</td>\n",
       "    </tr>\n",
       "    <tr>\n",
       "      <th>3</th>\n",
       "      <td>De Gea</td>\n",
       "      <td>Spain</td>\n",
       "      <td>91</td>\n",
       "      <td>93</td>\n",
       "      <td>Manchester United</td>\n",
       "      <td>€72M</td>\n",
       "      <td>€260K</td>\n",
       "      <td>Right</td>\n",
       "      <td>Lean</td>\n",
       "      <td>GK</td>\n",
       "      <td>17.0</td>\n",
       "      <td>13.0</td>\n",
       "      <td>50.0</td>\n",
       "      <td>18.0</td>\n",
       "      <td>51.0</td>\n",
       "      <td>42.0</td>\n",
       "      <td>57.0</td>\n",
       "      <td>58.0</td>\n",
       "      <td>60.0</td>\n",
       "      <td>43.0</td>\n",
       "    </tr>\n",
       "    <tr>\n",
       "      <th>4</th>\n",
       "      <td>K. De Bruyne</td>\n",
       "      <td>Belgium</td>\n",
       "      <td>91</td>\n",
       "      <td>92</td>\n",
       "      <td>Manchester City</td>\n",
       "      <td>€102M</td>\n",
       "      <td>€355K</td>\n",
       "      <td>Right</td>\n",
       "      <td>Normal</td>\n",
       "      <td>RCM</td>\n",
       "      <td>93.0</td>\n",
       "      <td>82.0</td>\n",
       "      <td>92.0</td>\n",
       "      <td>86.0</td>\n",
       "      <td>91.0</td>\n",
       "      <td>91.0</td>\n",
       "      <td>78.0</td>\n",
       "      <td>76.0</td>\n",
       "      <td>79.0</td>\n",
       "      <td>90.0</td>\n",
       "    </tr>\n",
       "  </tbody>\n",
       "</table>\n",
       "</div>"
      ],
      "text/plain": [
       "                Name Nationality  Overall  Potential                 Club  \\\n",
       "0           L. Messi   Argentina       94         94         FC Barcelona   \n",
       "1  Cristiano Ronaldo    Portugal       94         94             Juventus   \n",
       "2          Neymar Jr      Brazil       92         93  Paris Saint-Germain   \n",
       "3             De Gea       Spain       91         93    Manchester United   \n",
       "4       K. De Bruyne     Belgium       91         92      Manchester City   \n",
       "\n",
       "     Value   Wage Preferred Foot   Body Type Position  Crossing  Finishing  \\\n",
       "0  €110.5M  €565K           Left       Messi       RF      84.0       95.0   \n",
       "1     €77M  €405K          Right  C. Ronaldo       ST      84.0       94.0   \n",
       "2  €118.5M  €290K          Right      Neymar       LW      79.0       87.0   \n",
       "3     €72M  €260K          Right        Lean       GK      17.0       13.0   \n",
       "4    €102M  €355K          Right      Normal      RCM      93.0       82.0   \n",
       "\n",
       "   ShortPassing  Dribbling  LongPassing  BallControl  Acceleration  \\\n",
       "0          90.0       97.0         87.0         96.0          91.0   \n",
       "1          81.0       88.0         77.0         94.0          89.0   \n",
       "2          84.0       96.0         78.0         95.0          94.0   \n",
       "3          50.0       18.0         51.0         42.0          57.0   \n",
       "4          92.0       86.0         91.0         91.0          78.0   \n",
       "\n",
       "   SprintSpeed  Agility  Stamina  \n",
       "0         86.0     91.0     72.0  \n",
       "1         91.0     87.0     88.0  \n",
       "2         90.0     96.0     81.0  \n",
       "3         58.0     60.0     43.0  \n",
       "4         76.0     79.0     90.0  "
      ]
     },
     "execution_count": 11,
     "metadata": {},
     "output_type": "execute_result"
    }
   ],
   "source": [
    "players_df = pd.read_csv('fifa19_data.csv', usecols=categoric_cols+numeric_cols)\n",
    "print('File with specified columns loaded!')\n",
    "players_df.head()"
   ]
  },
  {
   "cell_type": "markdown",
   "metadata": {},
   "source": [
    "We also have to deal with wage and value columns since they are not in numeric format but in string-type format."
   ]
  },
  {
   "cell_type": "code",
   "execution_count": 12,
   "metadata": {},
   "outputs": [
    {
     "data": {
      "text/plain": [
       "'565'"
      ]
     },
     "execution_count": 12,
     "metadata": {},
     "output_type": "execute_result"
    }
   ],
   "source": [
    "'€565K'.split('K')[0][1:]"
   ]
  },
  {
   "cell_type": "code",
   "execution_count": 14,
   "metadata": {},
   "outputs": [
    {
     "data": {
      "text/plain": [
       "0    565\n",
       "1    405\n",
       "2    290\n",
       "3    260\n",
       "4    355\n",
       "Name: Wage, dtype: int64"
      ]
     },
     "execution_count": 14,
     "metadata": {},
     "output_type": "execute_result"
    }
   ],
   "source": [
    "def wage_convert(wage):\n",
    "    try:\n",
    "        return(int(wage.split('K')[0][1:])) # returns the left side of K, omitting the first element (Here €) \n",
    "    except:\n",
    "        return 0\n",
    "players_df['Wage'] = players_df['Wage'].apply(lambda wage: wage_convert(wage))\n",
    "players_df['Wage'].head()        "
   ]
  },
  {
   "cell_type": "code",
   "execution_count": 15,
   "metadata": {},
   "outputs": [
    {
     "data": {
      "text/plain": [
       "0    110.5\n",
       "1     77.0\n",
       "2    118.5\n",
       "3     72.0\n",
       "4    102.0\n",
       "Name: Value, dtype: float64"
      ]
     },
     "execution_count": 15,
     "metadata": {},
     "output_type": "execute_result"
    }
   ],
   "source": [
    "def value_convert(value):\n",
    "    try:\n",
    "        if 'M' in value:\n",
    "            return(float(value.split('M')[0][1:]))\n",
    "        elif 'K' in value:\n",
    "            return(float(value.split('K')[0][1:])/1000) # to standardize the metric\n",
    "    \n",
    "    except:\n",
    "        return 0\n",
    "    \n",
    "players_df['Value'] = players_df['Value'].apply(lambda value: value_convert(value))\n",
    "players_df['Value'].head()"
   ]
  },
  {
   "cell_type": "markdown",
   "metadata": {},
   "source": [
    "Finding Correlation using pandas and visualizing using seaborn"
   ]
  },
  {
   "cell_type": "code",
   "execution_count": 20,
   "metadata": {},
   "outputs": [
    {
     "data": {
      "image/png": "[encoded data removed]",
      "text/plain": [
       "<Figure size 432x288 with 2 Axes>"
      ]
     },
     "metadata": {},
     "output_type": "display_data"
    }
   ],
   "source": [
    "corr = players_df.corr()\n",
    "corr_matrix = sns.heatmap(corr, vmax = 0.3, center=0, linewidths=0.5, cbar_kws={'shrink':0.5}, square=True, annot=True, fmt='.2f', cmap='Blues')"
   ]
  },
  {
   "cell_type": "markdown",
   "metadata": {},
   "source": [
    "Here we can observe that the categorical variables have been automatically omitted, thus we are facing information loss.\n",
    "\n",
    "Correlation between numerical values is simpler, i.e. by using Pearson's Correlation.\n",
    "For categorical-categorical cases, Cramer's V is used for variables having two or more levels. It is the intercorrelation of two discrete variables and may be used with variables having two or more levels. φc is a symmetrical measure, it does not matter which variable we place in the columns and which in the rows. Also, the order of rows/columns doesn't matter, so φc may be used with nominal data types or higher (notably ordered or numerical).\n",
    "\n",
    "Cramér's V (sometimes referred to as Cramér's phi and denoted as φc) is a measure of association between two nominal variables, giving a value between 0 and +1 (inclusive). [Wikipedia] \n",
    "\n",
    "In short, range φc is [0,1] and if no \"information\" gained, φc=0."
   ]
  },
  {
   "cell_type": "markdown",
   "metadata": {},
   "source": [
    "If all clubs have the same proportion of players from every nationality, Cramer’s V is 0.\n",
    "If Every club prefers a single nationality Cramer’s V ==1, for example, all England player play in Manchester United, All Germans in Bayern Munchen and so on.\n"
   ]
  },
  {
   "cell_type": "code",
   "execution_count": 21,
   "metadata": {},
   "outputs": [
    {
     "data": {
      "image/png": "[encoded data removed]",
      "text/plain": [
       "<Figure size 1008x576 with 1 Axes>"
      ]
     },
     "metadata": {},
     "output_type": "display_data"
    }
   ],
   "source": [
    "sns.set(style=\"ticks\")\n",
    "\n",
    "filtered_player_df = players_df[(players_df['Club'].isin(['FC Barcelona', 'Paris Saint-Germain',\n",
    "       'Manchester United', 'Manchester City', 'Chelsea', 'Real Madrid','FC Porto','FC Bayern München'])) & \n",
    "                      (players_df['Nationality'].isin(['England', 'Brazil', 'Argentina',\n",
    "       'Brazil', 'Italy','Spain','Germany'])) \n",
    "                     ]\n",
    "\n",
    "df_plot = filtered_player_df.groupby(['Club', 'Nationality']).size().reset_index().pivot(columns='Club', index='Nationality', values=0).reset_index()\n",
    "\n",
    "g_plot = df_plot.set_index('Nationality').T.plot(kind='bar', stacked=True, \n",
    "            color=sns.color_palette())\n",
    "sns.despine()\n",
    "g_plot.figure.set_size_inches(14,8)\n",
    "    \n",
    "plt.show()"
   ]
  },
  {
   "cell_type": "code",
   "execution_count": null,
   "metadata": {},
   "outputs": [],
   "source": []
  },
  {
   "cell_type": "code",
   "execution_count": null,
   "metadata": {},
   "outputs": [],
   "source": []
  },
  {
   "cell_type": "code",
   "execution_count": null,
   "metadata": {},
   "outputs": [],
   "source": []
  }
 ],
 "metadata": {
  "kernelspec": {
   "display_name": "Python 3",
   "language": "python",
   "name": "python3"
  },
  "language_info": {
   "codemirror_mode": {
    "name": "ipython",
    "version": 3
   },
   "file_extension": ".py",
   "mimetype": "text/x-python",
   "name": "python",
   "nbconvert_exporter": "python",
   "pygments_lexer": "ipython3",
   "version": "3.7.3"
  }
 },
 "nbformat": 4,
 "nbformat_minor": 2
}
